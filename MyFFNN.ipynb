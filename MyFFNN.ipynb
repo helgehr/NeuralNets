{
 "cells": [
  {
   "cell_type": "markdown",
   "id": "36561abf",
   "metadata": {},
   "source": [
    "# Self implemented Feed Forward (Dense) Neural Net (FFNN)"
   ]
  },
  {
   "cell_type": "code",
   "execution_count": 1,
   "id": "52cfc2be",
   "metadata": {},
   "outputs": [],
   "source": [
    "# Imports\n",
    "import numpy as np\n",
    "import numpy.random as npr\n",
    "import matplotlib.pyplot as plt"
   ]
  },
  {
   "cell_type": "code",
   "execution_count": 2,
   "id": "8c2ec1f8",
   "metadata": {},
   "outputs": [],
   "source": [
    "# Define different activation functions\n",
    "\n",
    "tanh = np.tanh\n",
    "tanh_derivative = lambda x: 1 - np.tanh(x)**2\n",
    "sigmoid = lambda x: 1/(1+np.exp(-x))\n",
    "sigmoid_derivative = lambda x: -sigmoid(x) * (1-sigmoid(x))\n",
    "relu = np.vectorize(lambda x: x if x>0 else 0)\n",
    "relu_derivative = np.vectorize(lambda x: 1 if x>0 else 0)"
   ]
  },
  {
   "cell_type": "code",
   "execution_count": 3,
   "id": "70e788c8",
   "metadata": {},
   "outputs": [],
   "source": [
    "# Definition of My dense Neural Network\n",
    "\n",
    "class MyDenseNN:\n",
    "    def __init__(self, shape, learning_rate):\n",
    "        self.shape = shape\n",
    "        self.alist = [np.empty(s) for s in shape]\n",
    "        self.zlist = [np.empty(s) for s in shape] # zlist [0] is unused\n",
    "        \n",
    "        self.agrads = [np.empty(s) for s in shape]\n",
    "        \n",
    "        self.weights = [npr.normal(size=(shape[i],shape[i+1])) for i in range(len(shape)-1)]\n",
    "        self.wgrads = [npr.normal(size=(shape[i],shape[i+1])) for i in range(len(shape)-1)]\n",
    "        self.biases = [npr.normal(size=s) for s in shape[1:]]\n",
    "        self.bgrads = [np.empty(s) for s in shape[1:]]\n",
    "\n",
    "        self.act = tanh\n",
    "        self.act_prime = tanh_derivative\n",
    "        self.loss = np.nan\n",
    "        self.loss_history = []\n",
    "        self.learning_rate = learning_rate\n",
    "\n",
    "    def fProp(self, X):\n",
    "        result = np.empty((len(X), self.shape[-1]))\n",
    "        for i,x in enumerate(X):\n",
    "            result[i] = self.fProp_sample(x)\n",
    "        \n",
    "        return result\n",
    "\n",
    "    def fProp_sample(self, x):\n",
    "        if len(x) != self.shape[0]:\n",
    "            raise Exception(f\"cannot forward propagate with given input len {len(x)}\")\n",
    "\n",
    "        self.alist[0][:] = x\n",
    "        for i in range(len(self.shape)-1):\n",
    "            j = i+1\n",
    "            self.zlist[j][:] = np.dot(self.alist[i], self.weights[i]) + self.biases[i]\n",
    "            self.alist[j][:] = self.act(self.zlist[j])\n",
    "\n",
    "        return self.alist[-1]\n",
    "    \n",
    "    def bProp(self, x, y, y_hat):\n",
    "        self.loss += np.sum((y_hat-y)**2)\n",
    "        \n",
    "        self.agrads[-1][:] = 2*(y_hat - y)\n",
    "        for i in range(len(self.alist))[-2:0:-1]:\n",
    "            j = i+1\n",
    "            self.agrads[i] = np.einsum(\"k,ik\", self.agrads[j]*self.act_prime(self.zlist[j]), self.weights[i])\n",
    "\n",
    "        for i in range(len(self.wgrads))[::-1]:\n",
    "            j = i+1\n",
    "            self.wgrads[i] = np.einsum(\"j,i\", self.agrads[j]*self.act_prime(self.zlist[j]),self.alist[i])\n",
    "            self.bgrads[i] = self.agrads[j]*self.act_prime(self.zlist[j])\n",
    "    \n",
    "    def reset_loss(self):\n",
    "        self.loss = 0\n",
    "    \n",
    "    def fit_sample(self, x, y, add_grads=True):\n",
    "        if add_grads:\n",
    "            self.reset_loss()\n",
    "\n",
    "        y_hat = self.fProp_sample(x)\n",
    "        self.bProp(x,y,y_hat)\n",
    "\n",
    "        if add_grads:\n",
    "            for i in range(len(self.shape)-1):\n",
    "                self.weights[i] -= self.learning_rate*self.wgrads[i]\n",
    "                self.biases[i] -= self.learning_rate*self.bgrads[i]\n",
    "    \n",
    "    def fit_batch(self, X_batch, Y_batch):\n",
    "        for i in range(len(X_batch)):\n",
    "            self.fit_sample(X_batch[i], Y_batch[i], add_grads=False)\n",
    "\n",
    "        for i in range(len(self.shape)-1):\n",
    "            self.weights[i] -= self.learning_rate*self.wgrads[i]\n",
    "            self.biases[i] -= self.learning_rate*self.bgrads[i]\n",
    "        self.loss_history.append(self.loss)\n",
    "        self.reset_loss()\n",
    "        \n",
    "    def fit(self,X,Y,batchsize,epochs=1):\n",
    "        assert len(X) == len(Y), f\"data and label should have same length but have length {len(X)} and {len(Y)}\"\n",
    "        rnd_idx = np.arange(len(X)); npr.shuffle(rnd_idx)\n",
    "        for ep in range(epochs):\n",
    "#             print(f\"epoch: {ep+1}/{epochs}\")\n",
    "            for b in range(len(X)//batchsize):\n",
    "                start = b*batchsize\n",
    "                end = (b+1)*batchsize\n",
    "                end = end if end <= len(X) else len(X)\n",
    "                batch_idx = rnd_idx[start:end]\n",
    "                self.fit_batch(X[batch_idx], Y[batch_idx])"
   ]
  },
  {
   "cell_type": "code",
   "execution_count": 4,
   "id": "42439457",
   "metadata": {},
   "outputs": [
    {
     "name": "stdout",
     "output_type": "stream",
     "text": [
      "out before training:  [[-0.36868612 -0.10918944]]\n",
      "out after training:  [[0.5 0.4]]\n"
     ]
    },
    {
     "data": {
      "image/png": "[encoded data removed]",
      "text/plain": [
       "<Figure size 432x288 with 1 Axes>"
      ]
     },
     "metadata": {
      "needs_background": "light"
     },
     "output_type": "display_data"
    }
   ],
   "source": [
    "# Test NN\n",
    "\n",
    "sample = npr.rand(5).reshape(1,5)\n",
    "out = np.array([0.5,0.4]).reshape(1,2)\n",
    "iters = 100\n",
    "loss = np.empty(iters)\n",
    "\n",
    "nn = MyDenseNN([5,3,2], learning_rate=0.1)\n",
    "print(\"out before training: \", nn.fProp(sample))\n",
    "\n",
    "nn.fit(sample, out, batchsize=1, epochs=iters)\n",
    "# for i in range(iters):\n",
    "#     loss[i] = nn.loss\n",
    "    \n",
    "\n",
    "print(\"out after training: \", nn.fProp(sample))\n",
    "\n",
    "plt.plot(range(len(nn.loss_history)), nn.loss_history)\n",
    "plt.ylim(0,None)\n",
    "plt.xlabel(\"Iteration\")\n",
    "plt.ylabel(r\"$\\mathcal{L}$\")\n",
    "\n",
    "plt.show()"
   ]
  },
  {
   "cell_type": "code",
   "execution_count": 5,
   "id": "4d80a0f0",
   "metadata": {},
   "outputs": [
    {
     "data": {
      "image/png": "[encoded data removed]",
      "text/plain": [
       "<Figure size 432x288 with 2 Axes>"
      ]
     },
     "metadata": {
      "needs_background": "light"
     },
     "output_type": "display_data"
    }
   ],
   "source": [
    "# Show weights\n",
    "\n",
    "plt.imshow(nn.weights[1])\n",
    "plt.colorbar()\n",
    "\n",
    "plt.show()"
   ]
  },
  {
   "cell_type": "code",
   "execution_count": null,
   "id": "ba66c1e7",
   "metadata": {},
   "outputs": [],
   "source": []
  }
 ],
 "metadata": {
  "kernelspec": {
   "display_name": "Python 3 (ipykernel)",
   "language": "python",
   "name": "python3"
  },
  "language_info": {
   "codemirror_mode": {
    "name": "ipython",
    "version": 3
   },
   "file_extension": ".py",
   "mimetype": "text/x-python",
   "name": "python",
   "nbconvert_exporter": "python",
   "pygments_lexer": "ipython3",
   "version": "3.9.7"
  }
 },
 "nbformat": 4,
 "nbformat_minor": 5
}
