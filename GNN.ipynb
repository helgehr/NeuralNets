{
 "cells": [
  {
   "cell_type": "code",
   "execution_count": 1,
   "id": "875e294c",
   "metadata": {},
   "outputs": [],
   "source": [
    "import numpy as np\n",
    "import tensorflow as tf\n",
    "import spektral\n",
    "import networkx as nx\n",
    "import matplotlib.pyplot as plt\n",
    "from pyvis.network import Network"
   ]
  },
  {
   "cell_type": "code",
   "execution_count": 2,
   "id": "a711a2da",
   "metadata": {},
   "outputs": [
    {
     "name": "stderr",
     "output_type": "stream",
     "text": [
      "/home/helge/Documents/NeuralNets/env39/lib/python3.9/site-packages/scipy/sparse/_index.py:125: SparseEfficiencyWarning: Changing the sparsity structure of a csr_matrix is expensive. lil_matrix is more efficient.\n",
      "  self._set_arrayXarray(i, j, x)\n"
     ]
    }
   ],
   "source": [
    "cora = spektral.datasets.citation.Citation(\"Cora\")\n",
    "mask_tr, mask_va, mask_te = cora.mask_tr, cora.mask_va, cora.mask_te\n",
    "graph = cora.graphs[0]\n",
    "adjacency, features, labels = graph.a, graph.x, graph.y"
   ]
  },
  {
   "cell_type": "code",
   "execution_count": 3,
   "id": "a17bdcf0",
   "metadata": {},
   "outputs": [
    {
     "name": "stdout",
     "output_type": "stream",
     "text": [
      "(2708, 1433)\n",
      "(2708, 2708)\n",
      "(2708, 7)\n",
      "N_train: 140\n",
      "N_val: 500\n",
      "N_test: 1000\n"
     ]
    }
   ],
   "source": [
    "dense_adj = adjacency.todense()# + np.eye(graph.n_nodes)\n",
    "features = features.astype(\"float32\")\n",
    "dense_adj = dense_adj.astype(\"float32\")\n",
    "\n",
    "print(features.shape)\n",
    "print(dense_adj.shape)\n",
    "print(labels.shape)\n",
    "\n",
    "print(f\"N_train: {np.sum(mask_tr)}\")\n",
    "print(f\"N_val: {np.sum(mask_va)}\")\n",
    "print(f\"N_test: {np.sum(mask_te)}\")"
   ]
  },
  {
   "cell_type": "code",
   "execution_count": 4,
   "id": "da666f4f",
   "metadata": {},
   "outputs": [],
   "source": [
    "# G = nx.convert_matrix.from_numpy_matrix(dense_adj)\n",
    "# nt = Network('800px', '1500px')\n",
    "# nt.from_nx(G)\n",
    "# nt.show('G.html')\n",
    "# # nx.draw(G)"
   ]
  },
  {
   "cell_type": "code",
   "execution_count": 5,
   "id": "67f91bbf",
   "metadata": {},
   "outputs": [],
   "source": [
    "def masked_softmax_cross_entropy(logits, labels, mask):\n",
    "    loss = tf.nn.softmax_cross_entropy_with_logits(labels=labels, logits=logits)\n",
    "    mask = tf.cast(mask, dtype=tf.float32)\n",
    "    mask_mean = tf.reduce_mean(mask)\n",
    "    return tf.reduce_mean(loss*mask/mask_mean)\n",
    "\n",
    "def masked_accuracy(logits, labels, mask):\n",
    "    correct_prediction = tf.equal(tf.argmax(logits, 1), tf.argmax(labels, 1))\n",
    "    accuracy_all = tf.cast(correct_prediction, tf.float32)\n",
    "    mask = tf.cast(mask, tf.float32)\n",
    "    accuracy_masked = accuracy_all*mask\n",
    "    return tf.reduce_mean(accuracy_masked/tf.reduce_mean(mask))"
   ]
  },
  {
   "cell_type": "code",
   "execution_count": 51,
   "id": "537109ff",
   "metadata": {},
   "outputs": [],
   "source": [
    "def gnn(fts, adj, transform, activation):\n",
    "    seq_fts = transform(fts)\n",
    "    ret_fts = tf.matmul(adj, seq_fts)\n",
    "#     ret_fts = np.zeros_like(seq_fts)\n",
    "#     for i in range(adj.shape[0]):\n",
    "#         bla = adj.A[i]*seq_fts.T\n",
    "#         idx = tf.argmax(tf.linalg.norm(bla, axis=-1))\n",
    "#         ret_fts[i] = bla[idx]\n",
    "    return activation(ret_fts)"
   ]
  },
  {
   "cell_type": "code",
   "execution_count": 52,
   "id": "b49c88f0",
   "metadata": {},
   "outputs": [],
   "source": [
    "def train_cora(fts, adj, gnn_fn, n1, n2, epochs, lr):\n",
    "    val_hist = np.zeros(epochs)\n",
    "    test_hist = np.zeros(epochs)\n",
    "    lyr_1 = tf.keras.layers.Dense(n1)\n",
    "    lyr_2 = tf.keras.layers.Dense(n2)\n",
    "    lyr_3 = tf.keras.layers.Dense(7)\n",
    "    \n",
    "    def cora_gnn(fts, adj):\n",
    "        h1 = gnn_fn(fts, adj, lyr_1, tf.nn.relu)\n",
    "        h2 = gnn_fn(h1, adj, lyr_2, tf.nn.relu)\n",
    "        logits = gnn_fn(h2, adj, lyr_3, tf.identity)\n",
    "#         logits = gnn_fn(fts, adj, lyr_3, tf.identity)\n",
    "        return logits\n",
    "    \n",
    "    optimizer = tf.keras.optimizers.Adam(learning_rate=lr)\n",
    "    \n",
    "    best_accuracy = 0.0\n",
    "    for ep in range(epochs):\n",
    "        with tf.GradientTape() as gt:\n",
    "            logits = cora_gnn(fts, adj)\n",
    "            loss = masked_softmax_cross_entropy(logits, labels, mask_tr)\n",
    "\n",
    "        variables = gt.watched_variables()\n",
    "        grads = gt.gradient(loss, variables)\n",
    "        optimizer.apply_gradients(zip(grads, variables))\n",
    "        \n",
    "        val_accuracy = masked_accuracy(logits, labels, mask_va)\n",
    "        test_accuracy = masked_accuracy(logits, labels, mask_te)\n",
    "        val_hist[ep] = val_accuracy\n",
    "        test_hist[ep] = test_accuracy\n",
    "        \n",
    "        if val_accuracy > best_accuracy:\n",
    "            best_accuracy = val_accuracy\n",
    "            print(f'Epoch {ep} | Training loss: {loss.numpy()} | Val accuracy: {val_accuracy.numpy()} | Test accuracy: {test_accuracy.numpy()}')\n",
    "\n",
    "    return val_hist, test_hist"
   ]
  },
  {
   "cell_type": "code",
   "execution_count": 55,
   "id": "bd44f5e1",
   "metadata": {},
   "outputs": [
    {
     "name": "stdout",
     "output_type": "stream",
     "text": [
      "Epoch 0 | Training loss: 14.44350528717041 | Val accuracy: 0.09200000017881393 | Test accuracy: 0.09199999272823334\n",
      "Epoch 1 | Training loss: 17.442811965942383 | Val accuracy: 0.18799999356269836 | Test accuracy: 0.1549999713897705\n",
      "Epoch 2 | Training loss: 5.3359456062316895 | Val accuracy: 0.2800000011920929 | Test accuracy: 0.26999998092651367\n",
      "Epoch 3 | Training loss: 2.7010486125946045 | Val accuracy: 0.4139999747276306 | Test accuracy: 0.41899994015693665\n",
      "Epoch 8 | Training loss: 2.44173002243042 | Val accuracy: 0.41599997878074646 | Test accuracy: 0.3919999599456787\n",
      "Epoch 9 | Training loss: 1.8348853588104248 | Val accuracy: 0.4659999907016754 | Test accuracy: 0.4350000023841858\n",
      "Epoch 10 | Training loss: 1.6186786890029907 | Val accuracy: 0.48399996757507324 | Test accuracy: 0.4650000035762787\n",
      "Epoch 11 | Training loss: 1.4453790187835693 | Val accuracy: 0.4939999282360077 | Test accuracy: 0.47999992966651917\n",
      "Epoch 25 | Training loss: 0.9260355830192566 | Val accuracy: 0.49399998784065247 | Test accuracy: 0.5069999098777771\n",
      "Epoch 26 | Training loss: 0.8963738679885864 | Val accuracy: 0.5019999742507935 | Test accuracy: 0.5029999017715454\n",
      "Epoch 27 | Training loss: 0.8843775987625122 | Val accuracy: 0.5259999632835388 | Test accuracy: 0.5189999341964722\n",
      "Epoch 28 | Training loss: 0.8590229153633118 | Val accuracy: 0.5359999537467957 | Test accuracy: 0.5309998989105225\n",
      "Epoch 29 | Training loss: 0.8165633082389832 | Val accuracy: 0.5559999942779541 | Test accuracy: 0.5519999265670776\n",
      "Epoch 30 | Training loss: 0.7674112319946289 | Val accuracy: 0.5739999413490295 | Test accuracy: 0.5859999656677246\n",
      "Epoch 31 | Training loss: 0.7384211421012878 | Val accuracy: 0.5979999899864197 | Test accuracy: 0.5949999690055847\n",
      "Epoch 32 | Training loss: 0.7198858857154846 | Val accuracy: 0.6059999465942383 | Test accuracy: 0.6029998660087585\n",
      "Epoch 33 | Training loss: 0.7220258116722107 | Val accuracy: 0.6079999804496765 | Test accuracy: 0.5989999175071716\n",
      "Epoch 34 | Training loss: 0.6781420111656189 | Val accuracy: 0.6179999709129333 | Test accuracy: 0.6079999804496765\n",
      "Epoch 40 | Training loss: 0.5432496070861816 | Val accuracy: 0.6199999451637268 | Test accuracy: 0.6100000143051147\n",
      "Epoch 42 | Training loss: 0.5140944123268127 | Val accuracy: 0.6279999017715454 | Test accuracy: 0.6159999966621399\n",
      "Epoch 43 | Training loss: 0.5015495419502258 | Val accuracy: 0.6319999694824219 | Test accuracy: 0.6229999661445618\n",
      "Epoch 44 | Training loss: 0.4901980459690094 | Val accuracy: 0.6340000033378601 | Test accuracy: 0.6259999871253967\n"
     ]
    }
   ],
   "source": [
    "n_epochs = 400\n",
    "val_hist, test_hist = train_cora(features, dense_adj, gnn, 32, 16, n_epochs, 0.01)"
   ]
  },
  {
   "cell_type": "code",
   "execution_count": 56,
   "id": "c3356ab4",
   "metadata": {},
   "outputs": [
    {
     "data": {
      "image/png": "[encoded data removed]",
      "text/plain": [
       "<Figure size 432x288 with 1 Axes>"
      ]
     },
     "metadata": {
      "needs_background": "light"
     },
     "output_type": "display_data"
    }
   ],
   "source": [
    "plt.plot(range(n_epochs), val_hist, label=\"Validation\")\n",
    "plt.plot(range(n_epochs), test_hist, label=\"Test\")\n",
    "plt.legend()\n",
    "\n",
    "plt.show()"
   ]
  },
  {
   "cell_type": "code",
   "execution_count": 78,
   "id": "699e3fe5",
   "metadata": {
    "scrolled": false
   },
   "outputs": [
    {
     "name": "stdout",
     "output_type": "stream",
     "text": [
      "Epoch 0 | Training loss: 1.967482089996338 | Val accuracy: 0.10599999129772186 | Test accuracy: 0.13599997758865356\n",
      "Epoch 1 | Training loss: 1.8212387561798096 | Val accuracy: 0.21199999749660492 | Test accuracy: 0.22499999403953552\n",
      "Epoch 2 | Training loss: 1.6859415769577026 | Val accuracy: 0.2759999930858612 | Test accuracy: 0.27399998903274536\n",
      "Epoch 3 | Training loss: 1.5226079225540161 | Val accuracy: 0.3539999723434448 | Test accuracy: 0.32199999690055847\n",
      "Epoch 4 | Training loss: 1.336988925933838 | Val accuracy: 0.38599997758865356 | Test accuracy: 0.35099998116493225\n",
      "Epoch 5 | Training loss: 1.1416337490081787 | Val accuracy: 0.4039999544620514 | Test accuracy: 0.38099998235702515\n",
      "Epoch 6 | Training loss: 0.9469808340072632 | Val accuracy: 0.4139999747276306 | Test accuracy: 0.38999998569488525\n",
      "Epoch 7 | Training loss: 0.7638827562332153 | Val accuracy: 0.4259999692440033 | Test accuracy: 0.41099992394447327\n",
      "Epoch 9 | Training loss: 0.4632934331893921 | Val accuracy: 0.4339999854564667 | Test accuracy: 0.44199997186660767\n",
      "Epoch 10 | Training loss: 0.3472326993942261 | Val accuracy: 0.4479999542236328 | Test accuracy: 0.4479999840259552\n",
      "Epoch 11 | Training loss: 0.2538256347179413 | Val accuracy: 0.4519999921321869 | Test accuracy: 0.4519999921321869\n"
     ]
    }
   ],
   "source": [
    "_ = train_cora(features, tf.eye(dense_adj.shape[0]), gnn, 32, 16, n_epochs, 0.01)"
   ]
  },
  {
   "cell_type": "code",
   "execution_count": 82,
   "id": "558f1939",
   "metadata": {},
   "outputs": [
    {
     "name": "stdout",
     "output_type": "stream",
     "text": [
      "Epoch 0 | Training loss: 1.9459519386291504 | Val accuracy: 0.23599998652935028 | Test accuracy: 0.2069999724626541\n",
      "Epoch 1 | Training loss: 1.8307874202728271 | Val accuracy: 0.2759999930858612 | Test accuracy: 0.296999990940094\n",
      "Epoch 2 | Training loss: 1.6833187341690063 | Val accuracy: 0.4039999842643738 | Test accuracy: 0.41099995374679565\n",
      "Epoch 3 | Training loss: 1.5120947360992432 | Val accuracy: 0.5739999413490295 | Test accuracy: 0.5950000286102295\n",
      "Epoch 4 | Training loss: 1.3289673328399658 | Val accuracy: 0.6219999194145203 | Test accuracy: 0.6579999327659607\n",
      "Epoch 5 | Training loss: 1.1529216766357422 | Val accuracy: 0.6520000100135803 | Test accuracy: 0.6969999074935913\n",
      "Epoch 6 | Training loss: 0.9845744371414185 | Val accuracy: 0.6639999747276306 | Test accuracy: 0.7139999866485596\n",
      "Epoch 7 | Training loss: 0.8253985047340393 | Val accuracy: 0.6999999284744263 | Test accuracy: 0.7289999127388\n",
      "Epoch 8 | Training loss: 0.6834670901298523 | Val accuracy: 0.7279999256134033 | Test accuracy: 0.7589999437332153\n",
      "Epoch 9 | Training loss: 0.5627468824386597 | Val accuracy: 0.7359999418258667 | Test accuracy: 0.765999972820282\n",
      "Epoch 10 | Training loss: 0.4602821469306946 | Val accuracy: 0.7540000081062317 | Test accuracy: 0.777999997138977\n",
      "Epoch 11 | Training loss: 0.3746064603328705 | Val accuracy: 0.7600000500679016 | Test accuracy: 0.7839999794960022\n",
      "Epoch 12 | Training loss: 0.3064773678779602 | Val accuracy: 0.7619999647140503 | Test accuracy: 0.7890000343322754\n",
      "Epoch 13 | Training loss: 0.2519698441028595 | Val accuracy: 0.765999972820282 | Test accuracy: 0.7890000343322754\n",
      "Epoch 14 | Training loss: 0.20875148475170135 | Val accuracy: 0.7699999809265137 | Test accuracy: 0.7820000052452087\n"
     ]
    }
   ],
   "source": [
    "# degrees = np.sum(dense_adj, axis=1)\n",
    "degrees = tf.reduce_sum(dense_adj, axis=-1)\n",
    "_ = train_cora(features, dense_adj/degrees, gnn, 32, 16, n_epochs, 0.01)"
   ]
  },
  {
   "cell_type": "code",
   "execution_count": 86,
   "id": "995a8bdf",
   "metadata": {},
   "outputs": [
    {
     "name": "stdout",
     "output_type": "stream",
     "text": [
      "Epoch 0 | Training loss: 1.9443117380142212 | Val accuracy: 0.09599999338388443 | Test accuracy: 0.12599998712539673\n",
      "Epoch 1 | Training loss: 1.86823308467865 | Val accuracy: 0.15600000321865082 | Test accuracy: 0.17499998211860657\n",
      "Epoch 2 | Training loss: 1.7444885969161987 | Val accuracy: 0.29999998211860657 | Test accuracy: 0.351999968290329\n",
      "Epoch 3 | Training loss: 1.5861327648162842 | Val accuracy: 0.37599998712539673 | Test accuracy: 0.40299999713897705\n",
      "Epoch 4 | Training loss: 1.4119409322738647 | Val accuracy: 0.4179999828338623 | Test accuracy: 0.47200000286102295\n",
      "Epoch 5 | Training loss: 1.2322349548339844 | Val accuracy: 0.46999990940093994 | Test accuracy: 0.5139999389648438\n",
      "Epoch 6 | Training loss: 1.0562254190444946 | Val accuracy: 0.5459999442100525 | Test accuracy: 0.5699999332427979\n",
      "Epoch 7 | Training loss: 0.8927748203277588 | Val accuracy: 0.5999999046325684 | Test accuracy: 0.6179999113082886\n",
      "Epoch 8 | Training loss: 0.7399344444274902 | Val accuracy: 0.6439999938011169 | Test accuracy: 0.6629999279975891\n",
      "Epoch 9 | Training loss: 0.6021835207939148 | Val accuracy: 0.6620000004768372 | Test accuracy: 0.6909999847412109\n",
      "Epoch 10 | Training loss: 0.48395898938179016 | Val accuracy: 0.681999921798706 | Test accuracy: 0.7109999060630798\n",
      "Epoch 11 | Training loss: 0.3843532204627991 | Val accuracy: 0.6959999203681946 | Test accuracy: 0.7209998965263367\n",
      "Epoch 12 | Training loss: 0.30203190445899963 | Val accuracy: 0.7139999270439148 | Test accuracy: 0.7309999465942383\n",
      "Epoch 13 | Training loss: 0.23581565916538239 | Val accuracy: 0.7199999690055847 | Test accuracy: 0.73499995470047\n",
      "Epoch 20 | Training loss: 0.04306255280971527 | Val accuracy: 0.7239999771118164 | Test accuracy: 0.7459999918937683\n",
      "Epoch 21 | Training loss: 0.03416058421134949 | Val accuracy: 0.731999933719635 | Test accuracy: 0.7479999661445618\n",
      "Epoch 325 | Training loss: 7.820889004506171e-05 | Val accuracy: 0.7339999675750732 | Test accuracy: 0.7439999580383301\n"
     ]
    }
   ],
   "source": [
    "norm_deg = tf.linalg.diag(1.0/tf.sqrt(degrees))\n",
    "norm_adj = tf.matmul(norm_deg, tf.matmul(dense_adj, norm_deg))\n",
    "_ = train_cora(features, norm_adj, gnn, 32, 16, n_epochs, 0.01)"
   ]
  },
  {
   "cell_type": "code",
   "execution_count": null,
   "id": "6ffdbac1",
   "metadata": {},
   "outputs": [],
   "source": []
  }
 ],
 "metadata": {
  "kernelspec": {
   "display_name": "Python 3 (ipykernel)",
   "language": "python",
   "name": "python3"
  },
  "language_info": {
   "codemirror_mode": {
    "name": "ipython",
    "version": 3
   },
   "file_extension": ".py",
   "mimetype": "text/x-python",
   "name": "python",
   "nbconvert_exporter": "python",
   "pygments_lexer": "ipython3",
   "version": "3.9.9"
  }
 },
 "nbformat": 4,
 "nbformat_minor": 5
}
