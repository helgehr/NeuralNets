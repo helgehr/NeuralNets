{
 "cells": [
  {
   "cell_type": "code",
   "execution_count": 24,
   "id": "2bc43475",
   "metadata": {},
   "outputs": [],
   "source": [
    "import numpy as np\n",
    "import matplotlib.pyplot as plt\n",
    "import tensorflow as tf\n",
    "from tensorflow import keras\n",
    "from tensorflow.keras import layers\n",
    "import datetime"
   ]
  },
  {
   "cell_type": "code",
   "execution_count": 35,
   "id": "97c9573d",
   "metadata": {},
   "outputs": [],
   "source": [
    "batch_size = 16\n",
    "input_dim = 28\n",
    "\n",
    "units = 42\n",
    "output_size = 10\n",
    "\n",
    "# Build the RNN model\n",
    "def build_model(allow_cudnn_kernel=True):\n",
    "    lstm_layer = keras.layers.RNN(\n",
    "        keras.layers.LSTMCell(units), input_shape=(None, input_dim)\n",
    "    )\n",
    "    model = keras.models.Sequential(\n",
    "        [\n",
    "            lstm_layer,\n",
    "            keras.layers.BatchNormalization(),\n",
    "            keras.layers.Dense(output_size),\n",
    "        ]\n",
    "    )\n",
    "    return model"
   ]
  },
  {
   "cell_type": "code",
   "execution_count": 36,
   "id": "aed996f2",
   "metadata": {},
   "outputs": [],
   "source": [
    "mnist = keras.datasets.fashion_mnist\n",
    "\n",
    "(x_train, y_train), (x_test, y_test) = mnist.load_data()\n",
    "x_train, x_test = x_train / 255.0, x_test / 255.0"
   ]
  },
  {
   "cell_type": "code",
   "execution_count": 37,
   "id": "448f20fc",
   "metadata": {},
   "outputs": [
    {
     "name": "stdout",
     "output_type": "stream",
     "text": [
      "The tensorboard extension is already loaded. To reload it, use:\n",
      "  %reload_ext tensorboard\n",
      "Model: \"sequential_7\"\n",
      "_________________________________________________________________\n",
      "Layer (type)                 Output Shape              Param #   \n",
      "=================================================================\n",
      "rnn_7 (RNN)                  (None, 42)                11928     \n",
      "_________________________________________________________________\n",
      "batch_normalization_7 (Batch (None, 42)                168       \n",
      "_________________________________________________________________\n",
      "dense_7 (Dense)              (None, 10)                430       \n",
      "=================================================================\n",
      "Total params: 12,526\n",
      "Trainable params: 12,442\n",
      "Non-trainable params: 84\n",
      "_________________________________________________________________\n"
     ]
    },
    {
     "data": {
      "text/plain": [
       "None"
      ]
     },
     "metadata": {},
     "output_type": "display_data"
    },
    {
     "name": "stderr",
     "output_type": "stream",
     "text": [
      "2021-11-03 21:10:58.312757: I tensorflow/core/profiler/lib/profiler_session.cc:131] Profiler session initializing.\n",
      "2021-11-03 21:10:58.312876: I tensorflow/core/profiler/lib/profiler_session.cc:146] Profiler session started.\n",
      "2021-11-03 21:10:58.312993: E tensorflow/core/profiler/internal/gpu/cupti_tracer.cc:1666] function cupti_interface_->Subscribe( &subscriber_, (CUpti_CallbackFunc)ApiCallback, this)failed with error CUPTI_ERROR_MULTIPLE_SUBSCRIBERS_NOT_SUPPORTED\n",
      "2021-11-03 21:10:58.313232: I tensorflow/core/profiler/lib/profiler_session.cc:164] Profiler session tear down.\n"
     ]
    },
    {
     "name": "stdout",
     "output_type": "stream",
     "text": [
      "Epoch 1/5\n",
      "   9/3750 [..............................] - ETA: 1:37 - loss: 2.4948 - accuracy: 0.1528"
     ]
    },
    {
     "name": "stderr",
     "output_type": "stream",
     "text": [
      "2021-11-03 21:10:59.247198: I tensorflow/core/profiler/lib/profiler_session.cc:131] Profiler session initializing.\n",
      "2021-11-03 21:10:59.247237: I tensorflow/core/profiler/lib/profiler_session.cc:146] Profiler session started.\n",
      "2021-11-03 21:10:59.247308: E tensorflow/core/profiler/internal/gpu/cupti_tracer.cc:1666] function cupti_interface_->Subscribe( &subscriber_, (CUpti_CallbackFunc)ApiCallback, this)failed with error CUPTI_ERROR_MULTIPLE_SUBSCRIBERS_NOT_SUPPORTED\n",
      "2021-11-03 21:10:59.317134: I tensorflow/core/profiler/lib/profiler_session.cc:66] Profiler session collecting data.\n",
      "2021-11-03 21:10:59.319909: I tensorflow/core/profiler/internal/gpu/cupti_collector.cc:673]  GpuTracer has collected 0 callback api events and 0 activity events. \n",
      "2021-11-03 21:10:59.323330: I tensorflow/core/profiler/lib/profiler_session.cc:164] Profiler session tear down.\n",
      "2021-11-03 21:10:59.344207: I tensorflow/core/profiler/rpc/client/save_profile.cc:136] Creating directory: logs/fit/20211103-211058/train/plugins/profile/2021_11_03_21_10_59\n",
      "\n",
      "2021-11-03 21:10:59.354277: I tensorflow/core/profiler/rpc/client/save_profile.cc:142] Dumped gzipped tool data for trace.json.gz to logs/fit/20211103-211058/train/plugins/profile/2021_11_03_21_10_59/arch-desktop.trace.json.gz\n",
      "2021-11-03 21:10:59.360368: I tensorflow/core/profiler/rpc/client/save_profile.cc:136] Creating directory: logs/fit/20211103-211058/train/plugins/profile/2021_11_03_21_10_59\n",
      "\n",
      "2021-11-03 21:10:59.360597: I tensorflow/core/profiler/rpc/client/save_profile.cc:142] Dumped gzipped tool data for memory_profile.json.gz to logs/fit/20211103-211058/train/plugins/profile/2021_11_03_21_10_59/arch-desktop.memory_profile.json.gz\n",
      "2021-11-03 21:10:59.360985: I tensorflow/core/profiler/rpc/client/capture_profile.cc:251] Creating directory: logs/fit/20211103-211058/train/plugins/profile/2021_11_03_21_10_59\n",
      "Dumped tool data for xplane.pb to logs/fit/20211103-211058/train/plugins/profile/2021_11_03_21_10_59/arch-desktop.xplane.pb\n",
      "Dumped tool data for overview_page.pb to logs/fit/20211103-211058/train/plugins/profile/2021_11_03_21_10_59/arch-desktop.overview_page.pb\n",
      "Dumped tool data for input_pipeline.pb to logs/fit/20211103-211058/train/plugins/profile/2021_11_03_21_10_59/arch-desktop.input_pipeline.pb\n",
      "Dumped tool data for tensorflow_stats.pb to logs/fit/20211103-211058/train/plugins/profile/2021_11_03_21_10_59/arch-desktop.tensorflow_stats.pb\n",
      "Dumped tool data for kernel_stats.pb to logs/fit/20211103-211058/train/plugins/profile/2021_11_03_21_10_59/arch-desktop.kernel_stats.pb\n",
      "\n"
     ]
    },
    {
     "name": "stdout",
     "output_type": "stream",
     "text": [
      "3750/3750 [==============================] - 26s 7ms/step - loss: 0.7345 - accuracy: 0.7357 - val_loss: 0.5500 - val_accuracy: 0.7966\n",
      "Epoch 2/5\n",
      "3750/3750 [==============================] - 24s 6ms/step - loss: 0.5295 - accuracy: 0.8125 - val_loss: 0.4909 - val_accuracy: 0.8245\n",
      "Epoch 3/5\n",
      "3750/3750 [==============================] - 28s 7ms/step - loss: 0.4792 - accuracy: 0.8277 - val_loss: 0.4499 - val_accuracy: 0.8383\n",
      "Epoch 4/5\n",
      "3750/3750 [==============================] - 22s 6ms/step - loss: 0.4521 - accuracy: 0.8393 - val_loss: 0.4382 - val_accuracy: 0.8409\n",
      "Epoch 5/5\n",
      "3750/3750 [==============================] - 20s 5ms/step - loss: 0.4343 - accuracy: 0.8452 - val_loss: 0.4478 - val_accuracy: 0.8400\n"
     ]
    },
    {
     "data": {
      "text/plain": [
       "<keras.callbacks.History at 0x7fb4b27e7070>"
      ]
     },
     "execution_count": 37,
     "metadata": {},
     "output_type": "execute_result"
    }
   ],
   "source": [
    "%load_ext tensorboard\n",
    "\n",
    "model = build_model(allow_cudnn_kernel=False)\n",
    "display(model.summary())\n",
    "\n",
    "model.compile(\n",
    "    loss=keras.losses.SparseCategoricalCrossentropy(from_logits=True),\n",
    "    optimizer=\"sgd\",\n",
    "    metrics=[\"accuracy\"],\n",
    ")\n",
    "\n",
    "log_dir = \"logs/fit/\" + datetime.datetime.now().strftime(\"%Y%m%d-%H%M%S\")\n",
    "tensorboard_callback = tf.keras.callbacks.TensorBoard(log_dir=log_dir, histogram_freq=1)\n",
    "\n",
    "model.fit(\n",
    "    x_train, y_train, validation_data=(x_test, y_test), batch_size=batch_size, epochs=5, callbacks=[tensorboard_callback]\n",
    ")\n"
   ]
  },
  {
   "cell_type": "code",
   "execution_count": 34,
   "id": "6945e063",
   "metadata": {},
   "outputs": [
    {
     "name": "stdout",
     "output_type": "stream",
     "text": [
      "(28, 28)\n",
      "Predicted result is: [8], target result is: 8\n"
     ]
    },
    {
     "data": {
      "image/png": "[encoded data removed]",
      "text/plain": [
       "<Figure size 432x288 with 1 Axes>"
      ]
     },
     "metadata": {
      "needs_background": "light"
     },
     "output_type": "display_data"
    }
   ],
   "source": [
    "sample_idx = 34\n",
    "sample, sample_label = x_test[sample_idx], y_test[sample_idx]\n",
    "print(sample.shape)\n",
    "\n",
    "result = tf.argmax(model.predict_on_batch(tf.expand_dims(sample, 0)), axis=1)\n",
    "print(\n",
    "    \"Predicted result is: %s, target result is: %s\" % (result.numpy(), sample_label)\n",
    ")\n",
    "plt.imshow(sample, cmap=plt.get_cmap(\"gray\"))\n",
    "\n",
    "plt.show()"
   ]
  },
  {
   "cell_type": "code",
   "execution_count": null,
   "id": "4288e4e7",
   "metadata": {},
   "outputs": [],
   "source": []
  }
 ],
 "metadata": {
  "kernelspec": {
   "display_name": "Python 3 (ipykernel)",
   "language": "python",
   "name": "python3"
  },
  "language_info": {
   "codemirror_mode": {
    "name": "ipython",
    "version": 3
   },
   "file_extension": ".py",
   "mimetype": "text/x-python",
   "name": "python",
   "nbconvert_exporter": "python",
   "pygments_lexer": "ipython3",
   "version": "3.9.7"
  }
 },
 "nbformat": 4,
 "nbformat_minor": 5
}
