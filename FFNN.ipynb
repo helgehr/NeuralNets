{
 "cells": [
  {
   "cell_type": "code",
   "execution_count": 3,
   "metadata": {},
   "outputs": [],
   "source": [
    "import numpy as np\n",
    "import numpy.random as npr\n",
    "import matplotlib.pyplot as plt"
   ]
  },
  {
   "cell_type": "code",
   "execution_count": 2,
   "metadata": {},
   "outputs": [],
   "source": [
    "class NeuralNetwork:\n",
    "    def __init__(self, input_len, output_len):\n",
    "        self.input_shape = input_len\n",
    "        self.w1 = npr.normal(size=(input_len, 4))\n",
    "        self.b1 = npr.normal()\n",
    "        self.w2 = npr.normal(size=(4,output_len))\n",
    "        self.b2 = npr.normal()\n",
    "        self.output = np.zeros(output_len)\n",
    "        self.act = np.tanh\n",
    "        self.act_prime = 1 - np.tanh\n",
    "\n",
    "    def fProp(self, x):\n",
    "        if len(x) != self.input_shape:\n",
    "            raise Exception(f\"cannot forward propagate with given input len {len(x)}\")\n",
    "        h1 = self.act(np.dot(x,self.w1) + self.b1)\n",
    "        output = self.act(np.dot(h1,self.w2) + self.b2)\n",
    "        return output\n",
    "    \n",
    "    def bProp(self, x, y):\n",
    "        y_hat = forward_prop(x)\n",
    "        return 2*(y_hat - y)*\n",
    "        \n",
    "    def fit(X,Y,batchsize):\n",
    "        pass\n",
    "        "
   ]
  },
  {
   "cell_type": "code",
   "execution_count": 49,
   "metadata": {},
   "outputs": [
    {
     "name": "stdout",
     "output_type": "stream",
     "text": [
      "[ 0.98277338 -0.42453278]\n"
     ]
    }
   ],
   "source": [
    "nn = NeuralNetwork(5,2)\n",
    "print(nn.fProp(np.ones(5)))"
   ]
  },
  {
   "cell_type": "code",
   "execution_count": null,
   "metadata": {},
   "outputs": [],
   "source": []
  }
 ],
 "metadata": {
  "kernelspec": {
   "display_name": "Python 3",
   "language": "python",
   "name": "python3"
  },
  "language_info": {
   "codemirror_mode": {
    "name": "ipython",
    "version": 3
   },
   "file_extension": ".py",
   "mimetype": "text/x-python",
   "name": "python",
   "nbconvert_exporter": "python",
   "pygments_lexer": "ipython3",
   "version": "3.9.7"
  }
 },
 "nbformat": 4,
 "nbformat_minor": 5
}
