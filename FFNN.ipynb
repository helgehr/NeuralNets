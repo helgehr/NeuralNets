{
 "cells": [
  {
   "cell_type": "code",
   "execution_count": 1,
   "metadata": {},
   "outputs": [],
   "source": [
    "# Imports\n",
    "import numpy as np\n",
    "import numpy.random as npr\n",
    "import matplotlib.pyplot as plt"
   ]
  },
  {
   "cell_type": "code",
   "execution_count": 2,
   "metadata": {},
   "outputs": [],
   "source": [
    "# Define different activation functions\n",
    "\n",
    "tanh = np.tanh\n",
    "tanh_derivative = lambda x: 1 - np.tanh(x)**2\n",
    "sigmoid = lambda x: 1/(1+np.exp(-x))\n",
    "sigmoid_derivative = lambda x: -sigmoid(x) * (1-sigmoid(x))\n",
    "relu = np.vectorize(lambda x: x if x>0 else 0)\n",
    "relu_derivative = np.vectorize(lambda x: 1 if x>0 else 0)"
   ]
  },
  {
   "cell_type": "code",
   "execution_count": 50,
   "metadata": {},
   "outputs": [],
   "source": [
    "# Definition of My dense Neural Network\n",
    "\n",
    "class MyDenseNN:\n",
    "    def __init__(self, input_len, output_len):\n",
    "        self.input_shape = input_len\n",
    "        self.w1 = npr.normal(size=(input_len, 4))\n",
    "        self.b1 = npr.normal(size=4)\n",
    "#         self.b1 = np.zeros(4)\n",
    "        self.z2 = np.zeros(4)\n",
    "        self.a2 = np.zeros(4)\n",
    "        self.w2 = npr.normal(size=(4,output_len))\n",
    "        self.b2 = npr.normal(size=output_len)\n",
    "#         self.b2 = np.zeros(output_len)\n",
    "        self.z3 = np.zeros(output_len)\n",
    "        self.a3 = np.zeros(output_len)\n",
    "        self.act = tanh\n",
    "        self.act_prime = tanh_derivative\n",
    "        self.loss = np.nan\n",
    "\n",
    "    def fProp(self, x):\n",
    "        if len(x) != self.input_shape:\n",
    "            raise Exception(f\"cannot forward propagate with given input len {len(x)}\")\n",
    "        self.z2[:] = np.dot(x,self.w1) + self.b1\n",
    "        self.a2[:] = self.act(self.z2)\n",
    "        self.z3[:] = np.dot(self.a2,self.w2) + self.b2\n",
    "        self.a3[:] = self.act(self.z3)\n",
    "        return self.a3\n",
    "    \n",
    "    def bProp(self, x, y):\n",
    "        y_hat = self.fProp(x)\n",
    "        self.loss = np.sum((y_hat-y)**2)\n",
    "        \n",
    "        a3_grad = 2*(y_hat - y)\n",
    "#         a2_grad = np.sum(a3_grad*self.act_prime(self.z3)*self.w2, axis=1)\n",
    "        a2_grad = np.einsum(\"k,ik\", a3_grad*self.act_prime(self.z3), self.w2)\n",
    "\n",
    "        w2_grad = np.einsum(\"j,i\", a3_grad*self.act_prime(self.z3),self.a2)\n",
    "        w1_grad = np.einsum(\"j,i\", a2_grad*self.act_prime(self.z2),x)\n",
    "        \n",
    "        b2_grad = a3_grad*self.act_prime(self.z3)\n",
    "        b1_grad = a2_grad*self.act_prime(self.z2)\n",
    "\n",
    "        return w2_grad, b2_grad, w1_grad, b1_grad\n",
    "#         return w2_grad, 0, w1_grad, 0\n",
    "    \n",
    "    def fit_sample(self, x, y):\n",
    "        w2_grad, b2_grad, w1_grad, b1_grad = self.bProp(x,y)\n",
    "        \n",
    "        self.w2 += -w2_grad\n",
    "        self.b2 += -b2_grad\n",
    "        self.w1 += -w1_grad\n",
    "        self.b1 += -b1_grad\n",
    "        \n",
    "    def fit(X,Y,batchsize):\n",
    "        pass\n",
    "        "
   ]
  },
  {
   "cell_type": "code",
   "execution_count": 59,
   "metadata": {},
   "outputs": [
    {
     "name": "stdout",
     "output_type": "stream",
     "text": [
      "out before training:  [-0.79935088  0.89811897]\n",
      "out after training:  [0.5 0.4]\n"
     ]
    },
    {
     "data": {
      "image/png": "[encoded data removed]",
      "text/plain": [
       "<Figure size 432x288 with 1 Axes>"
      ]
     },
     "metadata": {
      "needs_background": "light"
     },
     "output_type": "display_data"
    }
   ],
   "source": [
    "# Test NN\n",
    "\n",
    "# sample = npr.rand(5)\n",
    "# out = np.array([0.5,0.4])\n",
    "iters = 1500\n",
    "loss = np.empty(iters)\n",
    "\n",
    "nn = MyDenseNN(5,2)\n",
    "print(\"out before training: \", nn.fProp(sample))\n",
    "\n",
    "for i in range(iters):\n",
    "    nn.fit_sample(sample, out)\n",
    "    loss[i] = nn.loss\n",
    "    \n",
    "\n",
    "print(\"out after training: \", nn.fProp(sample))\n",
    "\n",
    "plt.plot(range(len(loss)), loss)\n",
    "plt.ylim(0,None)\n",
    "plt.xlabel(\"Iteration\")\n",
    "plt.ylabel(r\"$\\mathcal{L}$\")\n",
    "\n",
    "plt.show()"
   ]
  },
  {
   "cell_type": "code",
   "execution_count": 60,
   "metadata": {},
   "outputs": [
    {
     "data": {
      "image/png": "[encoded data removed]",
      "text/plain": [
       "<Figure size 432x288 with 2 Axes>"
      ]
     },
     "metadata": {
      "needs_background": "light"
     },
     "output_type": "display_data"
    }
   ],
   "source": [
    "# Show weights\n",
    "\n",
    "plt.imshow(nn.w1)\n",
    "plt.colorbar()\n",
    "\n",
    "plt.show()"
   ]
  },
  {
   "cell_type": "code",
   "execution_count": null,
   "metadata": {},
   "outputs": [],
   "source": []
  }
 ],
 "metadata": {
  "kernelspec": {
   "display_name": "Python 3",
   "language": "python",
   "name": "python3"
  },
  "language_info": {
   "codemirror_mode": {
    "name": "ipython",
    "version": 3
   },
   "file_extension": ".py",
   "mimetype": "text/x-python",
   "name": "python",
   "nbconvert_exporter": "python",
   "pygments_lexer": "ipython3",
   "version": "3.9.7"
  }
 },
 "nbformat": 4,
 "nbformat_minor": 5
}
